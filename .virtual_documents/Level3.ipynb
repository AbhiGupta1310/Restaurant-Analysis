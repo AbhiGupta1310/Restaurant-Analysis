





%config InlineBackend.figure_format = 'retina' 
import pandas as pd


df = pd.read_csv('dataset_cleaned.csv', encoding='utf-8')


df.dtypes


df.tail()


def approx_to_50(value):
    remainder = value % 50
    if remainder < 25:
        return value - remainder
    else:
        return value + (50 - remainder)


df['Votes'] = df['Votes'].apply(approx_to_50)


df['Average Cost for two'] = df['Average Cost for two'].apply(approx_to_50)


df['Cuisines'] = df['Cuisines'].str.split(',')


df.shape


df = df.explode('Cuisines').reset_index(drop = True)


df.shape


df.head()


df.columns


inputs = df.drop(['Restaurant ID', 'Restaurant Name', 'Country Code', 'City', 'Address',
       'Locality', 'Locality Verbose', 'Longitude', 'Latitude',
       'Currency',
                  'Rating color','Aggregate rating',
        'Is delivering now', 'Switch to order menu'],axis = 'columns')


inputs


inputs["Cuisines"].nunique()


inputs["Rating text"].nunique()


valu = df["Average Cost for two"].value_counts().sort_values(ascending=False).head(10)
valu


inputs.head()


# inputs = pd.get_dummies(df, columns=['city', 'cuisines', 'currency', 'has_table_booking', 'has_online_delivery'])


from sklearn.preprocessing import LabelEncoder
le_online = LabelEncoder()
le_table = LabelEncoder()
le_ratingtext = LabelEncoder()



inputs.columns


inputs['Has Online delivery_n'] = le_online.fit_transform(inputs['Has Online delivery'])
inputs['Has Table booking_n'] = le_table.fit_transform(inputs['Has Table booking'])
inputs['Rating text_n'] = le_ratingtext.fit_transform(inputs['Rating text'])


inputs.head()


inputs.head()


inputs.drop(['Rating text','Has Online delivery','Has Table booking'],axis = 1 ,inplace = True)


inputs.head()


target = df["Aggregate rating"]


X = pd.get_dummies(inputs[['Cuisines', 'Average Cost for two', 'Price range', 'Votes','Has Online delivery_n','Has Table booking_n', 'Rating text_n']])
y = target


X.head()


# X.tail()


%config InlineBackend.figure_format = 'retina' 
import pandas as pd
import matplotlib.pyplot as plt
from sklearn.preprocessing import LabelEncoder
from sklearn.model_selection import train_test_split
from sklearn.tree import DecisionTreeRegressor, plot_tree
from sklearn.metrics import mean_squared_error, mean_absolute_error, r2_score
from sklearn.ensemble import RandomForestRegressor
from sklearn.ensemble import GradientBoostingRegressor
from sklearn.neighbors import KNeighborsRegressor
from sklearn.linear_model import LinearRegression


X_train,X_test,y_train,y_test = train_test_split(X,y,test_size=0.2, random_state=42)


# from sklearn.tree import DecisionTreeRegressor

model = DecisionTreeRegressor(max_depth=3, random_state=42)
model.fit(X_train, y_train)



y_pred = model.predict(X_test)


print("Mean Squared Error:", mean_squared_error(y_test, y_pred))
print("Mean Absolute Error:", mean_absolute_error(y_test, y_pred))
print("R² Score:", r2_score(y_test, y_pred))  # 1.0 = perfect fit



model2 = RandomForestRegressor(n_estimators=100, random_state=42)
model2.fit(X_train, y_train)
# 3. Predict
y_pred2 = model2.predict(X_test)


print("Mean Squared Error:", mean_squared_error(y_test, y_pred))
print("Mean Absolute Error:", mean_absolute_error(y_test, y_pred))
print("R² Score:", r2_score(y_test, y_pred2))  # 1.0 = perfect fit


models = {
    "Linear Regression": LinearRegression(),
    "Decision Tree": DecisionTreeRegressor(max_depth=3, random_state=42),
    "Random Forest": RandomForestRegressor(n_estimators=100,max_depth=10,random_state=42),
    "Gradient Boosting": GradientBoostingRegressor(n_estimators=100),
    "KNN": KNeighborsRegressor(n_neighbors=10)
}

for name, model in models.items():
    model.fit(X_train, y_train)
    preds = model.predict(X_test)
    print(f"{name}: R² Score ={r2_score(y_test, preds):.2f}, MAE={mean_absolute_error(y_test, preds):.2f}")
    print()



import plotly.graph_objects as go
models = {
    # "Linear Regression": LinearRegression(),
    "Decision Tree": DecisionTreeRegressor(max_depth=3, random_state=42),
    "Random Forest": RandomForestRegressor(n_estimators=100, max_depth=10, random_state=42),
    "Gradient Boosting": GradientBoostingRegressor(n_estimators=100),
    "KNN": KNeighborsRegressor(n_neighbors=10)
}

# Store results
model_names = []
r2_scores = []
maes = []

# Train and evaluate
for name, model in models.items():
    model.fit(X_train, y_train)
    preds = model.predict(X_test)
    r2 = r2_score(y_test, preds)
    mae = mean_absolute_error(y_test, preds)

    model_names.append(name)
    r2_scores.append(r2)
    maes.append(mae)





fig = go.Figure()

fig.add_trace(go.Bar(
    x=model_names,
    y=r2_scores,
    name='R² Score',
    marker_color='green',
    text=[f"{score:.2f}" for score in r2_scores],
    textposition='auto'
))

fig.add_trace(go.Bar(
    x=model_names,
    y=maes,
    name='MAE',
    marker_color='red',
    text=[f"{score:.2f}" for score in maes],
    textposition='auto'
))

# Layout details
fig.update_layout(
    title='🔥Model Performance Comparison',
    xaxis_title='Model',
    yaxis_title='Score',
    barmode='group',
    template='plotly_dark',
    height=500
)

fig.show()





import pandas as pd
import numpy as np
import chart_studio.plotly as py
import cufflinks as cf
import seaborn as sns
import plotly.express as px
%matplotlib inline


from plotly.offline import download_plotlyjs, init_notebook_mode, plot, iplot
init_notebook_mode(connected=True)
# Use Plotly locally
cf.go_offline()


top_cuisines.head(50)


df['Cuisines'] = df['Cuisines'].str.strip().str.upper()
cuisine_votes = df.groupby('Cuisines')['Votes'].sum().sort_values(ascending=False)
top_cuisines = cuisine_votes.head(10).reset_index()
top_cuisines.columns = ["Cuisines","Votes"]
fig = px.bar(
    top_cuisines,
    x="Votes",
    y="Cuisines",
    # orientation='v',
    labels={'Votes': 'Total Votes', 'Cuisines': 'Cuisine'},
    title='Top 10 Cuisines by Votes of Customer',
    color='Votes',
    color_continuous_scale='Plasma'
)

# Styling the plot
fig.update_layout(
    xaxis_title="Cuisine",
    yaxis_title="Votes",
    coloraxis_showscale=False,
    plot_bgcolor='rgba(0,0,0,0)',
    height = 500,
    width = 1000
)

fig.show()



correlation = df["Aggregate rating"].corr(df["Votes"])
print(f"Correlation between Rating and Votes: {correlation:.4f}")


df_clean = df[(df['Votes'] > 0) & (df['Aggregate rating'] > 0)]
cuisines_grouped = df_clean.groupby('Cuisines').agg({
    'Restaurant Name': 'count',
    'Votes':'sum',
    'Aggregate rating': 'mean'
}).reset_index()

cuisines_grouped.columns = ['Cuisines', 'Number of Restaurants', 'Votes','Average Rating']

top_10_cuisines = cuisines_grouped.sort_values(
    by=['Number of Restaurants'],
    ascending=False
).head(10)

top_10_cuisines = top_10_cuisines.round(2)
print(top_10_cuisines)



import pandas as pd
import plotly.express as px

# Step 1: Filter valid ratings and votes
df_clean = df[(df['Votes'] > 0) & (df['Aggregate rating'] > 0)]

# Step 2: Focus on top cuisines
top_cuisines = df_clean['Cuisines'].value_counts().head(5).index
df_top = df_clean[df_clean['Cuisines'].isin(top_cuisines)].copy()

# Step 3: Sort and compute cumulative votes per cuisine
df_top.sort_values(by=['Cuisines', 'Votes'], inplace=True)
df_top['Cumulative Votes'] = df_top.groupby('Cuisines')['Votes'].cumsum()

# Step 4: Define cumulative vote bins
bins = [0, 1000, 10000, 100000,500000, float('inf')]
labels = ['<1K', '1K–10K', '10K–100K', '100K–500K', '>500K']
df_top['Vote Bin'] = pd.cut(df_top['Cumulative Votes'], bins=bins, labels=labels)

# Step 5A: Unweighted average
unweighted_df = df_top.groupby(['Cuisines', 'Vote Bin'], observed=True).agg({
    'Aggregate rating': 'mean',
    'Cumulative Votes': 'max',
    'Restaurant Name': 'count'
}).reset_index()
unweighted_df.rename(columns={
    'Aggregate rating': 'Unweighted Average',
    'Restaurant Name': 'Restaurants in Bin'
}, inplace=True)

# Step 5B: Weighted average (clean and warning-free)
grouped = df_top.groupby(['Cuisines', 'Vote Bin'], observed=True)

weighted_results = []
for (cuisine, bin_), group in grouped:
    total_votes = group['Votes'].sum()
    weighted_rating = (group['Aggregate rating'] * group['Votes']).sum() / total_votes if total_votes > 0 else 0
    weighted_results.append({
        'Cuisines': cuisine,
        'Vote Bin': bin_,
        'Weighted Average': weighted_rating,
        'Restaurants in Bin': len(group)
    })

weighted_df = pd.DataFrame(weighted_results)


# Step 6: Merge both
merged_df = pd.merge(unweighted_df, weighted_df, on=['Cuisines', 'Vote Bin'])

# Step 7: Melt to long format for plotting
melted_df = merged_df.melt(
    id_vars=['Cuisines', 'Vote Bin'],
    value_vars=['Unweighted Average', 'Weighted Average'],
    var_name='Rating Type',
    value_name='Average Rating'
)

# Step 8: Plot both average types
fig = px.line(
    melted_df,
    x='Vote Bin',
    y='Average Rating',
    color='Cuisines',
    line_dash='Rating Type',
    markers=True,
    title='Comparison: Weighted vs Unweighted Average Ratings by Cumulative Votes',
    labels={
        'Vote Bin': 'Cumulative Vote Bucket',
        'Average Rating': 'Average Rating',
        'Cuisines': 'Cuisine',
        'Rating Type': 'Type of Average'
    }
)

fig.update_layout(template='plotly_white', height=650, width=1000)
fig.show()



import pandas as pd
import plotly.express as px

# Step 1: Clean data — remove rows with 0 votes or 0 rating
df_clean = df[(df['Votes'] > 0) & (df['Aggregate rating'] > 0)].copy()

# Step 2: Focus on top cuisines (top 5 for clarity)
top_cuisines = df_clean['Cuisines'].value_counts().head(5).index
df_top = df_clean[df_clean['Cuisines'].isin(top_cuisines)].copy()

# Step 3: Sort by Cuisine and Votes
df_top.sort_values(by=['Cuisines', 'Votes'], inplace=True)

# Step 4: Calculate cumulative votes and cumulative rating sum per cuisine
df_top['Cumulative Votes'] = df_top.groupby('Cuisines')['Votes'].cumsum()
df_top['Cumulative Rating Sum'] = (df_top['Aggregate rating'] * df_top['Votes'])\
    .groupby(df_top['Cuisines']).transform('cumsum')

# Step 5: Compute cumulative weighted average rating
df_top['Cumulative Weighted Rating'] = df_top['Cumulative Rating Sum'] / df_top['Cumulative Votes']

# Step 6: Plot it
fig = px.line(
    df_top,
    x='Cumulative Votes',
    y='Cumulative Weighted Rating',
    color='Cuisines',
    title='Cumulative Weighted Average Rating by Cuisine (Sorted by Votes)',
    labels={
        'Cumulative Votes': 'Cumulative Votes',
        'Cumulative Weighted Rating': 'Cumulative Avg Rating',
        'Cuisines': 'Cuisine'
    },
    markers=True
)

fig.update_layout(template='plotly_white', height=600, width=950)
fig.show()









city_avg = df.groupby('City')['Aggregate rating'].mean().sort_values(ascending=False)
top_city = city_avg.head(50).reset_index()
top_city.columns = ["City","Avg"]
def round_to_one_decimal(number):
    return np.round(number, 1)
# top_cuisines["Rating"] = top_cuisines["Rating"].apply(round_to_one_decimal)
top_city['Avg'] = top_city['Avg'].apply(round_to_one_decimal)
# top_cuisines[]
# Plotting
fig = px.bar(
    top_city,
    x="City",
    y="Avg",
    # orientation='v',
    labels={'City': 'Cities', 'Avg': 'Avg rating'},
    title='Top 10 Cities with Highest avg rating',
    color='Avg',
    color_continuous_scale='YlGnBu'
)

# Styling the plot
fig.update_layout(
    xaxis_title="Cities",
    yaxis_title="avg rating",
    coloraxis_showscale=False,
    plot_bgcolor='rgba(0,0,0,0)',
    height = 500,
    width = 1000
)

fig.show()



df_clean = df[(df['Votes'] > 0) & (df['Aggregate rating'] > 0)]

df_clean['Cuisines'] = df_clean['Cuisines'].str.strip().str.upper()
cuisine_rating = df_clean.groupby('Cuisines')['Aggregate rating'].mean().sort_values(ascending=False)
top_cuisines = cuisine_rating.head(10).reset_index()
top_cuisines.columns = ["Cuisines","Rating"]
def round_to_one_decimal(number):
    return np.round(number, 1)
top_cuisines["Rating"] = top_cuisines["Rating"].apply(round_to_one_decimal)
# top_cuisines[]
# Plotting
fig = px.bar(
    top_cuisines,
    x="Rating",
    y="Cuisines",
    orientation='h',
    labels={'Rating': 'Average Rating', 'Cuisines': 'Cuisine'},
    title='Top 10 Cuisines by Average Restaurant Rating',
    color='Rating',
    color_continuous_scale='Viridis'
)

# Styling the plot
fig.update_layout(
    xaxis_title="Average Rating",
    yaxis_title="Cuisine",
    coloraxis_showscale=False,
    plot_bgcolor='rgba(0,0,0,0)',
    height = 500,
    width = 1000
)

fig.show()



import matplotlib.pyplot as plt
import seaborn as sns

# Select only numeric columns for correlation
numeric_df = df.select_dtypes(include=['number'])

plt.figure(figsize=(10, 6))
sns.heatmap(numeric_df.corr(), annot=True, cmap='coolwarm', fmt='.2f')
plt.title('Correlation Heatmap of Numeric Features')
plt.show()



import plotly.express as px
import plotly.graph_objects as go
import pandas as pd

# Violin plot for rating distribution across top 10 cuisines
top_cuisines_list = df['Cuisines'].value_counts().head(10).index.tolist()
filtered_df = df[df['Cuisines'].isin(top_cuisines_list)]
fig = px.violin(filtered_df, y='Aggregate rating', x='Cuisines', color='Cuisines',
                box=True, points='all',
                title='Rating Distribution by Top 10 Cuisines')
fig.update_layout(xaxis_tickangle=-45)
fig.update_layout(height = 500 ,width = 1000)

fig.show()

# Bar plot: Average rating by price range
avg_rating_price = df.groupby('Price range')['Aggregate rating'].mean().reset_index()
fig = px.bar(avg_rating_price, x='Price range', y='Aggregate rating',
             title='Average Aggregate Rating by Price Range',
             labels={'Price range': 'Price Range', 'Aggregate rating': 'Average Rating'},
             color='Aggregate rating', color_continuous_scale='Viridis')
fig.update_layout(height = 500 ,width = 1000)

fig.show()

# Box plot of Aggregate rating by 'Has Table booking'
fig = px.box(df, x='Has Table booking', y='Aggregate rating',
             title='Aggregate Rating Distribution by Table Booking Availability',
             points='all')
fig.update_layout(height = 500 ,width = 1000)

fig.show()

# Scatter plot with regression line for Votes vs Aggregate rating
fig = px.scatter(df, x='Votes', y='Aggregate rating', trendline='ols',
                 title='Votes vs Aggregate Rating')
fig.update_layout(height = 500 ,width = 1000)

fig.show()



















