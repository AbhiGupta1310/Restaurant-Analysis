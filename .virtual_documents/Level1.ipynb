








%config InlineBackend.figure_format = 'retina' 
import numpy as np
import pandas as pd
import matplotlib.pyplot as plt
import seaborn as sns


df = pd.read_csv('dataset.csv')


df.shape


df.tail()


columns_to_check = ['Restaurant Name', 'City','Address','Locality']  
# Create a boolean mask for rows with "�" in any of the specified columns
mask = df[columns_to_check].apply(lambda x: x.str.contains('�', na=False)).any(axis=1)

num_garbled = mask.sum()
print(f"Number of rows with garbled text in {columns_to_check}: {num_garbled}")

df_clean = df[~mask].reset_index(drop=True)


df_clean.to_csv('dataset_cleaned.csv', index=False, encoding='utf-8')



df_clean.shape


df.shape


df = df_clean



df.shape


df.isnull().sum()


df.columns[df.isnull().any()].tolist()


df = df.dropna()


df.columns[df.isnull().any()].tolist()


df.dtypes


rating_counts = df['Aggregate rating'].value_counts().sort_values(ascending = False).reset_index()
rating_counts.columns  = ["Aggregate rating","Count"]
rating_counts





import chart_studio.plotly as py
import cufflinks as cf
import seaborn as sns
import plotly.express as px
%matplotlib inline


from plotly.offline import download_plotlyjs, init_notebook_mode, plot, iplot
init_notebook_mode(connected=True)
cf.go_offline()


# Define bins and labels
bins = [0,1,2,3,4,5]
labels = ['0-1','1-2','2-3','3-4','4-5']

# Created binned column
df['Rating Range'] = pd.cut(df['Aggregate rating'] , bins = bins , labels = labels , include_lowest = True)

# Count values in each bin
rating_binned_counts = df['Rating Range'].value_counts().sort_index().reset_index()
rating_binned_counts.columns = ['Rating Range', 'Count']


fig = px.bar(
    rating_binned_counts,
    x='Rating Range',
    y='Count',
    text = 'Count',
    title='Distribution of Aggregate Rating',
    color_discrete_sequence=['#00BCD4']
)

fig.update_layout(
    xaxis_title='Aggregate Rating Range',
    yaxis_title='Count',
    title_font_size=18,
    plot_bgcolor='white',
    yaxis=dict(gridcolor='lightgray'),
)
fig.update_layout(height = 500,width = 1000)
fig.update_traces(texttemplate='%{text:.2s}', textposition='outside')
fig.show()






rating_counts = df['Rating Range'].value_counts(normalize=True) * 100
print("Class distribution (%):")
rating_counts.round(2)


print((df['Aggregate rating'] == 0).sum())









df.dtypes


cols = ['Aggregate rating', 'Average Cost for two', 'Price range', 'Votes']
summary_stats = pd.DataFrame({
    'Mean': df[cols].mean(),
    'Median': df[cols].median(),
    'Standard Deviation': df[cols].std()
})

print("\nSummary Statistics:")
summary_stats.round(2)



df[cols].describe()


country = df['Country Code'].value_counts().reset_index()
country.columns = ['Country Code', 'Counts']
country


Cuisines = df['Cuisines'].value_counts().reset_index().head(20)
Cuisines.columns = ['Cuisines', 'Counts']
print("Top 20 Cuisines by Number of Restaurants Serving Them:")
Cuisines


city = df['City'].value_counts().reset_index()
city.columns = ['City', 'Counts']
print("Top 10 Cities by Number of Restaurants:")
city.head(10)





df.columns


fig = px.scatter_map(
    df,
    lat="Latitude",
    lon="Longitude",
    hover_name="Restaurant Name",
    hover_data={
        "Address": True,
        "Cuisines": True,
        "Aggregate rating": True,
        "Price range": True,
        "Votes": True
    },
    color="Aggregate rating",
    size="Votes",
    color_continuous_scale="Viridis",
    size_max=20,
    zoom=1,
    height=600
)
fig.show()



city_df = df['City'].value_counts().reset_index()
city_df.columns = ['City', 'Restaurants Counts']
print("Top 10 Cities by Number of Restaurants:")
city_df.head(10)


country_df = df['Country Code'].value_counts().reset_index()
code_to_country = {
    1: 'India',
    14: 'Australia',
    30: 'Brazil',
    37: 'Canada',
    94: 'Indonesia',
    148: 'New Zealand',
    162: 'Philippines',
    166: 'Qatar',
    184: 'Singapore',
    189: 'South Africa',
    191: 'Sri Lanka',
    208: 'Turkey',
    214: 'UAE',
    215: 'United Kingdom',
    216: 'United States'
}
country_df.columns = ['Country', 'Restaurants Counts']
country_df['Country'] = country_df['Country'].map(code_to_country)

print("\nRestaurant Count by Countries:")
country


fig = px.bar(
    city_df.head(10),
    x='City',
    y='Restaurants Counts',
    text='Restaurants Counts',
    title='Top 10 Cities by Number of Restaurants',
    color_discrete_sequence=['#00BCD4']
)
fig.show()



# Plot
fig = px.bar(
    country_df.head(10),
    x='Country',
    y='Restaurants Counts',
    text='Restaurants Counts',
    title='Top 10 Countries by Number of Restaurants',
    color_discrete_sequence=['#00BCD4']
)
fig.show()


df.columns






from scipy.stats import f_oneway

grouped_ratings = [group['Aggregate rating'].values for name, group in df.groupby('City')]

anova_result = f_oneway(*grouped_ratings)


print("ANOVA Test Results")
print("------------------")
print(f"F-statistic: {anova_result.statistic:.4f}")
print(f"P-value: {anova_result.pvalue:.4f}")

if anova_result.pvalue < 0.05:
    print("Conclusion: There is a significant difference in ratings across cities.")
else:
    print("Conclusion: No significant difference in ratings across cities.")



city_means = df.groupby('City')['Aggregate rating'].mean().sort_values(ascending=False).head()
print(city_means)



num_cities = df['City'].nunique()
num_cities


city_grouped = df.groupby('City').agg({
    'Restaurant Name': 'count',
    'Aggregate rating': 'mean'
}).reset_index()

city_grouped.columns = ['City', 'Number of Restaurants', 'Average Rating']

top_10_cities = city_grouped_filtered.sort_values(
    by=['Number of Restaurants'],
    ascending=False
).head(10)

top_10_cities = top_10_cities.round(2)
print(top_10_cities)



num_restaurants = df['Restaurant Name'].nunique()
num_restaurants


import plotly.graph_objects as go

fig = go.Figure()

# Bar trace for number of restaurants
fig.add_trace(go.Bar(
    x=top_10_cities['City'],
    y=top_10_cities['Number of Restaurants'],
    name='Number of Restaurants',
    marker_color='skyblue'
))

fig.add_trace(go.Scatter(
    x=top_10_cities['City'],
    y=top_10_cities['Average Rating'],
    name='Average Rating',
    mode='lines+markers',
    marker=dict(color='darkgreen'),
    yaxis='y2'
))

fig.update_layout(
    title='Top 10 Cities: Number of Restaurants vs. Average Rating',
    xaxis=dict(title='City'),
    yaxis=dict(
        title=dict(text='Number of Restaurants', font=dict(color='skyblue')),
        tickfont=dict(color='skyblue'),
    ),
    yaxis2=dict(
        title=dict(text='Average Rating', font=dict(color='darkgreen')),
        overlaying='y',
        side='right',
        tickfont=dict(color='darkgreen'),
    ),
    legend=dict(x=0.01, y=1.1, orientation="h"),
    bargap=0.4,
    template='plotly_white'
)
fig.update_layout(width = 1000 ,height = 500)
fig.show()




